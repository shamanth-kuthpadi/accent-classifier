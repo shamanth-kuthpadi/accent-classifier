{
 "cells": [
  {
   "cell_type": "markdown",
   "metadata": {},
   "source": [
    "https://www.kaggle.com/code/msripooja/steps-to-convert-audio-clip-to-spectrogram"
   ]
  },
  {
   "cell_type": "code",
   "execution_count": 113,
   "metadata": {},
   "outputs": [],
   "source": [
    "import warnings\n",
    "\n",
    "warnings.filterwarnings('ignore')"
   ]
  },
  {
   "cell_type": "code",
   "execution_count": 114,
   "metadata": {},
   "outputs": [],
   "source": [
    "from utils import *"
   ]
  },
  {
   "cell_type": "code",
   "execution_count": 115,
   "metadata": {},
   "outputs": [],
   "source": [
    "X_train, y_train = generate_dataset(directory='./TrainingData', MAX_LEN=170)"
   ]
  },
  {
   "cell_type": "code",
   "execution_count": 116,
   "metadata": {},
   "outputs": [],
   "source": [
    "X_test, y_test = generate_dataset(directory='./TestingData', MAX_LEN=170)"
   ]
  },
  {
   "cell_type": "code",
   "execution_count": 117,
   "metadata": {},
   "outputs": [
    {
     "data": {
      "text/plain": [
       "(120, 170, 33)"
      ]
     },
     "execution_count": 117,
     "metadata": {},
     "output_type": "execute_result"
    }
   ],
   "source": [
    "X_train.shape"
   ]
  },
  {
   "cell_type": "code",
   "execution_count": 118,
   "metadata": {},
   "outputs": [
    {
     "data": {
      "text/plain": [
       "(40, 170, 33)"
      ]
     },
     "execution_count": 118,
     "metadata": {},
     "output_type": "execute_result"
    }
   ],
   "source": [
    "X_test.shape"
   ]
  },
  {
   "cell_type": "code",
   "execution_count": 119,
   "metadata": {},
   "outputs": [],
   "source": [
    "import tensorflow as tf\n",
    "from tensorflow.keras import layers, models\n",
    "from sklearn.metrics import classification_report, accuracy_score"
   ]
  },
  {
   "cell_type": "code",
   "execution_count": 120,
   "metadata": {},
   "outputs": [],
   "source": [
    "from sklearn.preprocessing import LabelEncoder\n",
    "encoder = LabelEncoder()\n",
    "y_train = encoder.fit_transform(y_train)\n",
    "y_test = encoder.transform(y_test)"
   ]
  },
  {
   "cell_type": "code",
   "execution_count": 124,
   "metadata": {},
   "outputs": [],
   "source": [
    "model = models.Sequential([\n",
    "    layers.Conv1D(32, kernel_size=3, activation='relu', input_shape=(X_train.shape[1], X_train.shape[2])),  # Apply across time steps\n",
    "    layers.MaxPooling1D(pool_size=2),\n",
    "    layers.Conv1D(64, kernel_size=3, activation='relu'),\n",
    "    layers.MaxPooling1D(pool_size=2),\n",
    "    layers.Flatten(),\n",
    "    layers.Dense(64, activation='relu', kernel_regularizer='l2'),\n",
    "    layers.Dropout(0.5),\n",
    "    layers.Dense(1, activation='sigmoid')  # Binary classification\n",
    "])"
   ]
  },
  {
   "cell_type": "code",
   "execution_count": 125,
   "metadata": {},
   "outputs": [
    {
     "name": "stdout",
     "output_type": "stream",
     "text": [
      "Epoch 1/20\n",
      "24/24 - 1s - 31ms/step - accuracy: 0.5729 - loss: 1.6897 - val_accuracy: 0.3750 - val_loss: 1.1934\n",
      "Epoch 2/20\n",
      "24/24 - 0s - 3ms/step - accuracy: 0.5104 - loss: 1.1007 - val_accuracy: 0.3333 - val_loss: 1.0605\n",
      "Epoch 3/20\n",
      "24/24 - 0s - 3ms/step - accuracy: 0.6042 - loss: 0.9701 - val_accuracy: 0.3333 - val_loss: 1.0450\n",
      "Epoch 4/20\n",
      "24/24 - 0s - 3ms/step - accuracy: 0.5417 - loss: 0.9364 - val_accuracy: 0.4167 - val_loss: 0.9432\n",
      "Epoch 5/20\n",
      "24/24 - 0s - 4ms/step - accuracy: 0.6979 - loss: 0.8387 - val_accuracy: 0.3333 - val_loss: 1.0881\n",
      "Epoch 6/20\n",
      "24/24 - 0s - 4ms/step - accuracy: 0.6875 - loss: 0.8378 - val_accuracy: 0.3750 - val_loss: 0.9321\n",
      "Epoch 7/20\n",
      "24/24 - 0s - 4ms/step - accuracy: 0.6146 - loss: 0.7426 - val_accuracy: 0.5000 - val_loss: 0.9119\n",
      "Epoch 8/20\n",
      "24/24 - 0s - 4ms/step - accuracy: 0.7604 - loss: 0.6904 - val_accuracy: 0.6250 - val_loss: 0.8661\n",
      "Epoch 9/20\n",
      "24/24 - 0s - 4ms/step - accuracy: 0.8125 - loss: 0.6208 - val_accuracy: 0.5833 - val_loss: 0.8125\n",
      "Epoch 10/20\n",
      "24/24 - 0s - 4ms/step - accuracy: 0.7812 - loss: 0.5614 - val_accuracy: 0.7083 - val_loss: 0.6975\n",
      "Epoch 11/20\n",
      "24/24 - 0s - 4ms/step - accuracy: 0.8438 - loss: 0.5569 - val_accuracy: 0.7083 - val_loss: 0.6760\n",
      "Epoch 12/20\n",
      "24/24 - 0s - 4ms/step - accuracy: 0.8958 - loss: 0.4636 - val_accuracy: 0.7083 - val_loss: 0.6428\n",
      "Epoch 13/20\n",
      "24/24 - 0s - 4ms/step - accuracy: 0.8125 - loss: 0.5165 - val_accuracy: 0.8333 - val_loss: 0.6425\n",
      "Epoch 14/20\n",
      "24/24 - 0s - 4ms/step - accuracy: 0.8646 - loss: 0.4432 - val_accuracy: 0.7917 - val_loss: 0.6118\n",
      "Epoch 15/20\n",
      "24/24 - 0s - 4ms/step - accuracy: 0.9167 - loss: 0.3462 - val_accuracy: 0.7083 - val_loss: 0.6767\n",
      "Epoch 16/20\n",
      "24/24 - 0s - 4ms/step - accuracy: 0.9479 - loss: 0.3733 - val_accuracy: 0.8333 - val_loss: 0.5393\n",
      "Epoch 17/20\n",
      "24/24 - 0s - 4ms/step - accuracy: 0.9479 - loss: 0.3556 - val_accuracy: 0.7917 - val_loss: 0.5284\n",
      "Epoch 18/20\n",
      "24/24 - 0s - 4ms/step - accuracy: 0.8958 - loss: 0.3842 - val_accuracy: 0.5000 - val_loss: 1.0097\n",
      "Epoch 19/20\n",
      "24/24 - 0s - 4ms/step - accuracy: 0.9271 - loss: 0.3676 - val_accuracy: 0.8333 - val_loss: 0.5283\n",
      "Epoch 20/20\n",
      "24/24 - 0s - 4ms/step - accuracy: 0.9583 - loss: 0.2986 - val_accuracy: 0.8333 - val_loss: 0.5250\n"
     ]
    }
   ],
   "source": [
    "model.compile(optimizer='adam', loss='binary_crossentropy', metrics=['accuracy'])\n",
    "\n",
    "# Train the model\n",
    "history = model.fit(\n",
    "    X_train, y_train,\n",
    "    epochs=20,\n",
    "    batch_size=4,  # Smaller batch size for small datasets\n",
    "    validation_split=0.2,\n",
    "    verbose=2\n",
    ")"
   ]
  },
  {
   "cell_type": "code",
   "execution_count": 126,
   "metadata": {},
   "outputs": [
    {
     "name": "stdout",
     "output_type": "stream",
     "text": [
      "\u001b[1m2/2\u001b[0m \u001b[32m━━━━━━━━━━━━━━━━━━━━\u001b[0m\u001b[37m\u001b[0m \u001b[1m0s\u001b[0m 12ms/step - accuracy: 0.7937 - loss: 0.5952 \n",
      "Test Accuracy: 0.80\n"
     ]
    }
   ],
   "source": [
    "test_loss, test_accuracy = model.evaluate(X_test, y_test)\n",
    "print(f\"Test Accuracy: {test_accuracy:.2f}\")"
   ]
  },
  {
   "cell_type": "code",
   "execution_count": null,
   "metadata": {},
   "outputs": [
    {
     "name": "stdout",
     "output_type": "stream",
     "text": [
      "\u001b[1m2/2\u001b[0m \u001b[32m━━━━━━━━━━━━━━━━━━━━\u001b[0m\u001b[37m\u001b[0m \u001b[1m0s\u001b[0m 41ms/step\n",
      "\n",
      "Classification Report:\n",
      "               precision    recall  f1-score   support\n",
      "\n",
      "           0       0.83      0.75      0.79        20\n",
      "           1       0.77      0.85      0.81        20\n",
      "\n",
      "    accuracy                           0.80        40\n",
      "   macro avg       0.80      0.80      0.80        40\n",
      "weighted avg       0.80      0.80      0.80        40\n",
      "\n"
     ]
    }
   ],
   "source": [
    "y_pred = model.predict(X_test)\n",
    "y_pred_binary = (y_pred > 0.5).astype(int) \n",
    "\n",
    "print(\"\\nClassification Report:\\n\", classification_report(y_test, y_pred_binary))"
   ]
  },
  {
   "cell_type": "code",
   "execution_count": null,
   "metadata": {},
   "outputs": [],
   "source": []
  },
  {
   "cell_type": "code",
   "execution_count": null,
   "metadata": {},
   "outputs": [],
   "source": []
  }
 ],
 "metadata": {
  "kernelspec": {
   "display_name": "3.10.14",
   "language": "python",
   "name": "python3"
  },
  "language_info": {
   "codemirror_mode": {
    "name": "ipython",
    "version": 3
   },
   "file_extension": ".py",
   "mimetype": "text/x-python",
   "name": "python",
   "nbconvert_exporter": "python",
   "pygments_lexer": "ipython3",
   "version": "3.10.14"
  }
 },
 "nbformat": 4,
 "nbformat_minor": 2
}
