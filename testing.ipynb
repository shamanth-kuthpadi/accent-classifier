{
 "cells": [
  {
   "cell_type": "markdown",
   "metadata": {},
   "source": [
    "https://www.kaggle.com/code/msripooja/steps-to-convert-audio-clip-to-spectrogram"
   ]
  },
  {
   "cell_type": "code",
   "execution_count": 1,
   "metadata": {},
   "outputs": [],
   "source": [
    "import warnings\n",
    "\n",
    "warnings.filterwarnings('ignore')"
   ]
  },
  {
   "cell_type": "code",
   "execution_count": 2,
   "metadata": {},
   "outputs": [],
   "source": [
    "import random\n",
    "import numpy as np\n",
    "\n",
    "# Set seeds for reproducibility\n",
    "random.seed(34)\n",
    "np.random.seed(34)"
   ]
  },
  {
   "cell_type": "code",
   "execution_count": 3,
   "metadata": {},
   "outputs": [],
   "source": [
    "from utils import *"
   ]
  },
  {
   "cell_type": "code",
   "execution_count": 4,
   "metadata": {},
   "outputs": [],
   "source": [
    "X_train, y_train = generate_dataset(directory='./TrainingData', MAX_LEN=170)"
   ]
  },
  {
   "cell_type": "code",
   "execution_count": 5,
   "metadata": {},
   "outputs": [],
   "source": [
    "X_test, y_test = generate_dataset(directory='./TestingData', MAX_LEN=170)"
   ]
  },
  {
   "cell_type": "code",
   "execution_count": 6,
   "metadata": {},
   "outputs": [
    {
     "data": {
      "text/plain": [
       "(120, 170, 33)"
      ]
     },
     "execution_count": 6,
     "metadata": {},
     "output_type": "execute_result"
    }
   ],
   "source": [
    "X_train.shape"
   ]
  },
  {
   "cell_type": "code",
   "execution_count": 7,
   "metadata": {},
   "outputs": [
    {
     "data": {
      "text/plain": [
       "(40, 170, 33)"
      ]
     },
     "execution_count": 7,
     "metadata": {},
     "output_type": "execute_result"
    }
   ],
   "source": [
    "X_test.shape"
   ]
  },
  {
   "cell_type": "code",
   "execution_count": 8,
   "metadata": {},
   "outputs": [],
   "source": [
    "import tensorflow as tf\n",
    "from tensorflow.keras import layers, models\n",
    "from sklearn.metrics import classification_report, accuracy_score"
   ]
  },
  {
   "cell_type": "code",
   "execution_count": 9,
   "metadata": {},
   "outputs": [],
   "source": [
    "from sklearn.preprocessing import LabelEncoder\n",
    "encoder = LabelEncoder()\n",
    "y_train = encoder.fit_transform(y_train)\n",
    "y_test = encoder.transform(y_test)"
   ]
  },
  {
   "cell_type": "code",
   "execution_count": 10,
   "metadata": {},
   "outputs": [],
   "source": [
    "model = models.Sequential([\n",
    "    layers.Conv1D(16, kernel_size=3, activation='relu', input_shape=(X_train.shape[1], X_train.shape[2])),\n",
    "    layers.MaxPooling1D(pool_size=2),\n",
    "    layers.Conv1D(32, kernel_size=3, activation='relu'),\n",
    "    layers.MaxPooling1D(pool_size=2),\n",
    "    layers.Flatten(),\n",
    "    layers.Dense(32, activation='relu', kernel_regularizer='l2'),\n",
    "    layers.Dropout(0.5),\n",
    "    layers.Dense(1, activation='sigmoid')\n",
    "])"
   ]
  },
  {
   "cell_type": "code",
   "execution_count": 11,
   "metadata": {},
   "outputs": [
    {
     "name": "stdout",
     "output_type": "stream",
     "text": [
      "Epoch 1/50\n",
      "6/6 - 1s - 117ms/step - accuracy: 0.5208 - loss: 0.7947 - val_accuracy: 0.0000e+00 - val_loss: 0.7387\n",
      "Epoch 2/50\n",
      "6/6 - 0s - 10ms/step - accuracy: 0.5938 - loss: 0.5838 - val_accuracy: 0.0000e+00 - val_loss: 0.6342\n",
      "Epoch 3/50\n",
      "6/6 - 0s - 9ms/step - accuracy: 0.5938 - loss: 0.4551 - val_accuracy: 0.0000e+00 - val_loss: 0.4995\n",
      "Epoch 4/50\n",
      "6/6 - 0s - 9ms/step - accuracy: 0.6250 - loss: 0.3774 - val_accuracy: 0.0000e+00 - val_loss: 0.5238\n",
      "Epoch 5/50\n",
      "6/6 - 0s - 9ms/step - accuracy: 0.5833 - loss: 0.3408 - val_accuracy: 0.0000e+00 - val_loss: 0.4264\n",
      "Epoch 6/50\n",
      "6/6 - 0s - 9ms/step - accuracy: 0.6042 - loss: 0.3228 - val_accuracy: 0.0000e+00 - val_loss: 0.4277\n",
      "Epoch 7/50\n",
      "6/6 - 0s - 9ms/step - accuracy: 0.6250 - loss: 0.2920 - val_accuracy: 0.0000e+00 - val_loss: 0.4356\n",
      "Epoch 8/50\n",
      "6/6 - 0s - 9ms/step - accuracy: 0.6458 - loss: 0.2746 - val_accuracy: 0.0000e+00 - val_loss: 0.4541\n",
      "Epoch 9/50\n",
      "6/6 - 0s - 9ms/step - accuracy: 0.6354 - loss: 0.2594 - val_accuracy: 0.1667 - val_loss: 0.3650\n",
      "Epoch 10/50\n",
      "6/6 - 0s - 9ms/step - accuracy: 0.6562 - loss: 0.2509 - val_accuracy: 0.1250 - val_loss: 0.4121\n",
      "Epoch 11/50\n",
      "6/6 - 0s - 9ms/step - accuracy: 0.5417 - loss: 0.2784 - val_accuracy: 0.4167 - val_loss: 0.3308\n",
      "Epoch 12/50\n",
      "6/6 - 0s - 9ms/step - accuracy: 0.6562 - loss: 0.2496 - val_accuracy: 0.1250 - val_loss: 0.4737\n",
      "Epoch 13/50\n",
      "6/6 - 0s - 9ms/step - accuracy: 0.7604 - loss: 0.2168 - val_accuracy: 0.5000 - val_loss: 0.3202\n",
      "Epoch 14/50\n",
      "6/6 - 0s - 9ms/step - accuracy: 0.6875 - loss: 0.2246 - val_accuracy: 0.1667 - val_loss: 0.4003\n",
      "Epoch 15/50\n",
      "6/6 - 0s - 9ms/step - accuracy: 0.7188 - loss: 0.2109 - val_accuracy: 0.4167 - val_loss: 0.3621\n",
      "Epoch 16/50\n",
      "6/6 - 0s - 9ms/step - accuracy: 0.8125 - loss: 0.1899 - val_accuracy: 0.4167 - val_loss: 0.3625\n",
      "Epoch 17/50\n",
      "6/6 - 0s - 9ms/step - accuracy: 0.8333 - loss: 0.1872 - val_accuracy: 0.5000 - val_loss: 0.3536\n",
      "Epoch 18/50\n",
      "6/6 - 0s - 9ms/step - accuracy: 0.8229 - loss: 0.1705 - val_accuracy: 0.5833 - val_loss: 0.2652\n",
      "Epoch 19/50\n",
      "6/6 - 0s - 9ms/step - accuracy: 0.8333 - loss: 0.1622 - val_accuracy: 0.4167 - val_loss: 0.3813\n",
      "Epoch 20/50\n",
      "6/6 - 0s - 9ms/step - accuracy: 0.8958 - loss: 0.1426 - val_accuracy: 0.3750 - val_loss: 0.4219\n",
      "Epoch 21/50\n",
      "6/6 - 0s - 9ms/step - accuracy: 0.8750 - loss: 0.1434 - val_accuracy: 0.4167 - val_loss: 0.3662\n",
      "Epoch 22/50\n",
      "6/6 - 0s - 10ms/step - accuracy: 0.9167 - loss: 0.1205 - val_accuracy: 0.7500 - val_loss: 0.1720\n",
      "Epoch 23/50\n",
      "6/6 - 0s - 9ms/step - accuracy: 0.9271 - loss: 0.1149 - val_accuracy: 0.7500 - val_loss: 0.1699\n",
      "Epoch 24/50\n",
      "6/6 - 0s - 9ms/step - accuracy: 0.9375 - loss: 0.1219 - val_accuracy: 0.5417 - val_loss: 0.3611\n",
      "Epoch 25/50\n",
      "6/6 - 0s - 9ms/step - accuracy: 0.9271 - loss: 0.1179 - val_accuracy: 0.5417 - val_loss: 0.3608\n",
      "Epoch 26/50\n",
      "6/6 - 0s - 11ms/step - accuracy: 0.8750 - loss: 0.1213 - val_accuracy: 0.9167 - val_loss: 0.1153\n",
      "Epoch 27/50\n",
      "6/6 - 0s - 10ms/step - accuracy: 0.8854 - loss: 0.1295 - val_accuracy: 0.3333 - val_loss: 0.5172\n",
      "Epoch 28/50\n",
      "6/6 - 0s - 16ms/step - accuracy: 0.8229 - loss: 0.1448 - val_accuracy: 0.7500 - val_loss: 0.1724\n",
      "Epoch 29/50\n",
      "6/6 - 0s - 9ms/step - accuracy: 0.9062 - loss: 0.1328 - val_accuracy: 0.7500 - val_loss: 0.1975\n",
      "Epoch 30/50\n",
      "6/6 - 0s - 9ms/step - accuracy: 0.8229 - loss: 0.1340 - val_accuracy: 0.5417 - val_loss: 0.3727\n",
      "Epoch 31/50\n",
      "6/6 - 0s - 9ms/step - accuracy: 0.9479 - loss: 0.1115 - val_accuracy: 0.7917 - val_loss: 0.1640\n",
      "Epoch 32/50\n",
      "6/6 - 0s - 9ms/step - accuracy: 0.9688 - loss: 0.0900 - val_accuracy: 0.6667 - val_loss: 0.2630\n",
      "Epoch 33/50\n",
      "6/6 - 0s - 10ms/step - accuracy: 0.9688 - loss: 0.0818 - val_accuracy: 0.7083 - val_loss: 0.2756\n",
      "Epoch 34/50\n",
      "6/6 - 0s - 9ms/step - accuracy: 0.9583 - loss: 0.0849 - val_accuracy: 0.7083 - val_loss: 0.2291\n",
      "Epoch 35/50\n",
      "6/6 - 0s - 9ms/step - accuracy: 0.9688 - loss: 0.0700 - val_accuracy: 0.7500 - val_loss: 0.1687\n",
      "Epoch 36/50\n",
      "6/6 - 0s - 9ms/step - accuracy: 0.9688 - loss: 0.0795 - val_accuracy: 0.5833 - val_loss: 0.3275\n",
      "Epoch 37/50\n",
      "6/6 - 0s - 9ms/step - accuracy: 0.9479 - loss: 0.0812 - val_accuracy: 0.9167 - val_loss: 0.0812\n",
      "Epoch 38/50\n",
      "6/6 - 0s - 9ms/step - accuracy: 0.9792 - loss: 0.0675 - val_accuracy: 0.5417 - val_loss: 0.3770\n",
      "Epoch 39/50\n",
      "6/6 - 0s - 9ms/step - accuracy: 0.9792 - loss: 0.0611 - val_accuracy: 0.8750 - val_loss: 0.1002\n",
      "Epoch 40/50\n",
      "6/6 - 0s - 9ms/step - accuracy: 0.9792 - loss: 0.0619 - val_accuracy: 0.7500 - val_loss: 0.2284\n",
      "Epoch 41/50\n",
      "6/6 - 0s - 9ms/step - accuracy: 0.9792 - loss: 0.0600 - val_accuracy: 0.7917 - val_loss: 0.1537\n",
      "Epoch 42/50\n",
      "6/6 - 0s - 9ms/step - accuracy: 0.9688 - loss: 0.0451 - val_accuracy: 0.7500 - val_loss: 0.2123\n",
      "Epoch 43/50\n",
      "6/6 - 0s - 9ms/step - accuracy: 0.9688 - loss: 0.0543 - val_accuracy: 0.8333 - val_loss: 0.1288\n",
      "Epoch 44/50\n",
      "6/6 - 0s - 9ms/step - accuracy: 0.9688 - loss: 0.0526 - val_accuracy: 0.5833 - val_loss: 0.3456\n",
      "Epoch 45/50\n",
      "6/6 - 0s - 9ms/step - accuracy: 0.9479 - loss: 0.0742 - val_accuracy: 0.8750 - val_loss: 0.0825\n",
      "Epoch 46/50\n",
      "6/6 - 0s - 9ms/step - accuracy: 0.9583 - loss: 0.0669 - val_accuracy: 0.6667 - val_loss: 0.3195\n",
      "Epoch 47/50\n",
      "6/6 - 0s - 9ms/step - accuracy: 0.9896 - loss: 0.0490 - val_accuracy: 0.9167 - val_loss: 0.0746\n",
      "Epoch 48/50\n",
      "6/6 - 0s - 9ms/step - accuracy: 0.9792 - loss: 0.0652 - val_accuracy: 0.5833 - val_loss: 0.3092\n",
      "Epoch 49/50\n",
      "6/6 - 0s - 9ms/step - accuracy: 0.9583 - loss: 0.0589 - val_accuracy: 0.8333 - val_loss: 0.1241\n",
      "Epoch 50/50\n",
      "6/6 - 0s - 9ms/step - accuracy: 0.9792 - loss: 0.0516 - val_accuracy: 0.7500 - val_loss: 0.2116\n"
     ]
    }
   ],
   "source": [
    "from tensorflow.keras.optimizers import Adam\n",
    "\n",
    "model.compile(optimizer=Adam(learning_rate=2e-3), loss='mean_squared_error', metrics=['accuracy'])\n",
    "\n",
    "# Train the model\n",
    "history = model.fit(\n",
    "    X_train, y_train,\n",
    "    epochs=50,\n",
    "    batch_size=16,  # Smaller batch size for small datasets\n",
    "    validation_split=0.2,\n",
    "    verbose=2\n",
    ")"
   ]
  },
  {
   "cell_type": "code",
   "execution_count": 12,
   "metadata": {},
   "outputs": [
    {
     "name": "stdout",
     "output_type": "stream",
     "text": [
      "\u001b[1m2/2\u001b[0m \u001b[32m━━━━━━━━━━━━━━━━━━━━\u001b[0m\u001b[37m\u001b[0m \u001b[1m0s\u001b[0m 12ms/step - accuracy: 0.7937 - loss: 0.1702\n",
      "Test Accuracy: 0.80\n"
     ]
    }
   ],
   "source": [
    "test_loss, test_accuracy = model.evaluate(X_test, y_test)\n",
    "print(f\"Test Accuracy: {test_accuracy:.2f}\")"
   ]
  },
  {
   "cell_type": "code",
   "execution_count": 13,
   "metadata": {},
   "outputs": [
    {
     "name": "stdout",
     "output_type": "stream",
     "text": [
      "\u001b[1m2/2\u001b[0m \u001b[32m━━━━━━━━━━━━━━━━━━━━\u001b[0m\u001b[37m\u001b[0m \u001b[1m0s\u001b[0m 43ms/step\n",
      "\n",
      "Classification Report:\n",
      "               precision    recall  f1-score   support\n",
      "\n",
      "           0       0.83      0.75      0.79        20\n",
      "           1       0.77      0.85      0.81        20\n",
      "\n",
      "    accuracy                           0.80        40\n",
      "   macro avg       0.80      0.80      0.80        40\n",
      "weighted avg       0.80      0.80      0.80        40\n",
      "\n"
     ]
    }
   ],
   "source": [
    "y_pred = model.predict(X_test)\n",
    "y_pred_binary = (y_pred > 0.5).astype(int) \n",
    "\n",
    "print(\"\\nClassification Report:\\n\", classification_report(y_test, y_pred_binary))"
   ]
  },
  {
   "cell_type": "code",
   "execution_count": 14,
   "metadata": {},
   "outputs": [],
   "source": [
    "import matplotlib.pyplot as plt\n",
    "\n",
    "def plot_training_history(history):\n",
    "    plt.figure(figsize=(8, 6))\n",
    "    plt.plot(history.history['loss'], label='Training Loss', marker='o')\n",
    "    if 'val_loss' in history.history:\n",
    "        plt.plot(history.history['val_loss'], label='Validation Loss', marker='o')\n",
    "    plt.title('Loss vs Epochs')\n",
    "    plt.xlabel('Epochs')\n",
    "    plt.ylabel('Loss')\n",
    "    plt.legend()\n",
    "    plt.grid(True)\n",
    "    plt.show()"
   ]
  },
  {
   "cell_type": "code",
   "execution_count": 15,
   "metadata": {},
   "outputs": [
    {
     "data": {
      "image/png": "[encoded data removed]",
      "text/plain": [
       "<Figure size 800x600 with 1 Axes>"
      ]
     },
     "metadata": {},
     "output_type": "display_data"
    }
   ],
   "source": [
    "plot_training_history(history)"
   ]
  },
  {
   "cell_type": "code",
   "execution_count": 16,
   "metadata": {},
   "outputs": [
    {
     "data": {
      "text/plain": [
       "array([[[-5.65639574,  0.16969872,  0.16969872, ...,  0.16982441,\n",
       "          0.16954271,  0.16971652],\n",
       "        [-5.65639591,  0.16969447,  0.16969447, ...,  0.16979055,\n",
       "          0.16954825,  0.16971861],\n",
       "        [-5.65639607,  0.16969058,  0.16969058, ...,  0.16975529,\n",
       "          0.16955694,  0.16972498],\n",
       "        ...,\n",
       "        [-1.5600525 ,  0.03928   , -0.046417  , ..., -0.14053092,\n",
       "         -0.14044258, -0.14047146],\n",
       "        [-1.72454938,  0.06580477, -0.03474567, ..., -0.1362321 ,\n",
       "         -0.13614004, -0.13615863],\n",
       "        [-1.76889392,  0.07811435, -0.02458335, ..., -0.13615153,\n",
       "         -0.13607258, -0.13607775]],\n",
       "\n",
       "       [[-5.65672916,  0.17179832,  0.17179832, ...,  0.17194687,\n",
       "          0.17175718,  0.17160692],\n",
       "        [-5.65672911,  0.17180024,  0.17180024, ...,  0.17193045,\n",
       "          0.171773  ,  0.17161352],\n",
       "        [-5.65672906,  0.17180241,  0.17180241, ...,  0.17190959,\n",
       "          0.17178905,  0.17161977],\n",
       "        ...,\n",
       "        [-1.50929713,  0.0442252 , -0.0684464 , ..., -0.13805492,\n",
       "         -0.1380152 , -0.13805069],\n",
       "        [-1.56625132,  0.04281106, -0.05732277, ..., -0.13887975,\n",
       "         -0.13884303, -0.1388801 ],\n",
       "        [-1.57855804,  0.0348323 , -0.05177536, ..., -0.1407684 ,\n",
       "         -0.14073632, -0.14077996]],\n",
       "\n",
       "       [[-5.65659704,  0.16973802,  0.16973802, ...,  0.17001094,\n",
       "          0.16994284,  0.16998563],\n",
       "        [-5.65659699,  0.16973935,  0.16973935, ...,  0.16999555,\n",
       "          0.16994786,  0.16997885],\n",
       "        [-5.65659693,  0.16974092,  0.16974092, ...,  0.16998292,\n",
       "          0.16995125,  0.16997147],\n",
       "        ...,\n",
       "        [-3.18715406,  0.61691079,  0.12705196, ..., -0.11197652,\n",
       "         -0.11168814, -0.11173053],\n",
       "        [-3.75422086,  0.59674933,  0.2461954 , ..., -0.09128701,\n",
       "         -0.09092277, -0.0909707 ],\n",
       "        [-3.01381031,  0.69117433,  0.09996402, ..., -0.11044398,\n",
       "         -0.11010835, -0.1101424 ]],\n",
       "\n",
       "       ...,\n",
       "\n",
       "       [[-5.65644732,  0.16829206,  0.16829206, ...,  0.16847868,\n",
       "          0.16795727,  0.16830247],\n",
       "        [-5.65644727,  0.16829318,  0.16829318, ...,  0.1684749 ,\n",
       "          0.16796774,  0.16829521],\n",
       "        [-5.65644719,  0.16829501,  0.16829501, ...,  0.16845961,\n",
       "          0.16798775,  0.16828961],\n",
       "        ...,\n",
       "        [-1.75886319, -0.04844891, -0.06146815, ..., -0.1261222 ,\n",
       "         -0.12605464, -0.12602661],\n",
       "        [-1.75886319, -0.04844891, -0.06146815, ..., -0.1261222 ,\n",
       "         -0.12605464, -0.12602661],\n",
       "        [-1.75886319, -0.04844891, -0.06146815, ..., -0.1261222 ,\n",
       "         -0.12605464, -0.12602661]],\n",
       "\n",
       "       [[-5.6566207 ,  0.17259569,  0.17259569, ...,  0.17221739,\n",
       "          0.17259904,  0.17253794],\n",
       "        [-5.65662064,  0.17259819,  0.17259819, ...,  0.17223954,\n",
       "          0.17260441,  0.17255461],\n",
       "        [-5.65662059,  0.17260081,  0.17260081, ...,  0.1722532 ,\n",
       "          0.17260666,  0.17256705],\n",
       "        ...,\n",
       "        [-1.78647117,  0.06808017, -0.04287019, ..., -0.13485608,\n",
       "         -0.13468343, -0.13478388],\n",
       "        [-1.88601985,  0.08249919, -0.01604611, ..., -0.13243942,\n",
       "         -0.13228936, -0.13240437],\n",
       "        [-1.78725457,  0.07929272, -0.00710888, ..., -0.1331845 ,\n",
       "         -0.13306581, -0.13317434]],\n",
       "\n",
       "       [[-5.65675911,  0.17239689,  0.17239689, ...,  0.1726663 ,\n",
       "          0.17256794,  0.17220038],\n",
       "        [-5.65675914,  0.17239559,  0.17239559, ...,  0.1727025 ,\n",
       "          0.1725526 ,  0.17220318],\n",
       "        [-5.65675917,  0.17239406,  0.17239406, ...,  0.17274778,\n",
       "          0.17253886,  0.1722062 ],\n",
       "        ...,\n",
       "        [-1.57808214,  0.01650123, -0.05307371, ..., -0.13885817,\n",
       "         -0.13897067, -0.13903233],\n",
       "        [-1.56451201,  0.00656726, -0.06689394, ..., -0.13941131,\n",
       "         -0.1395117 , -0.1395778 ],\n",
       "        [-1.653183  ,  0.03292153, -0.05650456, ..., -0.13629761,\n",
       "         -0.13639526, -0.1364545 ]]])"
      ]
     },
     "execution_count": 16,
     "metadata": {},
     "output_type": "execute_result"
    }
   ],
   "source": [
    "X_train"
   ]
  },
  {
   "cell_type": "code",
   "execution_count": null,
   "metadata": {},
   "outputs": [],
   "source": []
  }
 ],
 "metadata": {
  "kernelspec": {
   "display_name": "3.10.14",
   "language": "python",
   "name": "python3"
  },
  "language_info": {
   "codemirror_mode": {
    "name": "ipython",
    "version": 3
   },
   "file_extension": ".py",
   "mimetype": "text/x-python",
   "name": "python",
   "nbconvert_exporter": "python",
   "pygments_lexer": "ipython3",
   "version": "3.10.14"
  }
 },
 "nbformat": 4,
 "nbformat_minor": 2
}
